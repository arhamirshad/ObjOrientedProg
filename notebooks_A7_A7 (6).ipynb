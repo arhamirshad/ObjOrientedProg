{
  "metadata": {
    "language_info": {
      "codemirror_mode": {
        "name": "python",
        "version": 3
      },
      "file_extension": ".py",
      "mimetype": "text/x-python",
      "name": "python",
      "nbconvert_exporter": "python",
      "pygments_lexer": "ipython3",
      "version": "3.8"
    },
    "kernelspec": {
      "name": "python",
      "display_name": "Python (Pyodide)",
      "language": "python"
    }
  },
  "nbformat_minor": 4,
  "nbformat": 4,
  "cells": [
    {
      "cell_type": "raw",
      "source": "Write a function caught_speeding that takes an int speed parameter and a Boolean is_birthday parameter in that order. Return 0 for no fine, 1 for small fine, and 2 for big fine based on the following rules:\nIf speed is less than 60, no fine.\nIf speed is between and including 60-80, small fine.\nIf speed is greater than 80, big fine.\nIf is_birthday is true, speeds can be 5 higher in all cases.\nAs an example:\ncaught_speeding(50, False) -> 0\ncaught_speeding(70, False) -> 1\ncaught_speeding(90, False) -> 2\ncaught_speeding(64, True) -> 0",
      "metadata": {}
    },
    {
      "cell_type": "code",
      "source": "def caught_speeding(speed,is_birthday):\n    if is_birthday:\n        speed = speed -5\n    if speed < 60:\n        return 0\n    if speed > 60 and speed < 80:\n        return 1\n    if speed > 80:\n        return 2\n#testing with different parameters\ntest_1_1 = caught_speeding(50, False)\ntest_1_2 = caught_speeding(70, False)\ntest_1_3 = caught_speeding(90, False)\ntest_1_4 = caught_speeding(64, True)\n\nprint(test_1_1,test_1_2,test_1_3,test_1_4)\n\n",
      "metadata": {
        "trusted": true
      },
      "execution_count": 68,
      "outputs": [
        {
          "name": "stdout",
          "text": "0 1 2 0\n",
          "output_type": "stream"
        }
      ]
    },
    {
      "cell_type": "raw",
      "source": "The file \"popular_dog_names.txtDownload popular_dog_names.txt\" lists the 10 most popular names for female and male dogs (according to the American Kennel ClubLinks to an external site.). Write a function popular_dog_name that accepts a proposed dog name, and checks the popular_dog_names.txt file to see if that name is popular. If it is, print that the proposed name is popular, its rank, and for what gender of dog. If the proposed name is not found, print that the name wasn't found.\n",
      "metadata": {
        "tags": []
      }
    },
    {
      "cell_type": "code",
      "source": "def popular_dog_name(name):\n\n    with open(\"popular_dog_names.txt\") as input_file:\n        x = input_file.readlines()\n        ctr = 0\n        for i in x:\n            if name == i.split(\",\")[0]:\n                print(\"name found:\\n\",x[ctr])  \n                return\n            ctr = ctr+1\n        print(\"name wasn't found:\\n\",name)\n                \n#testing with different parameters\ntest_2_1 = popular_dog_name(\"Bella\")\ntest_2_2 = popular_dog_name(\"Daisy\")\ntest_2_3 = popular_dog_name(\"Freya\")\ntest_2_4 = popular_dog_name(\"Tucker\")\n",
      "metadata": {
        "tags": [],
        "trusted": true
      },
      "execution_count": 64,
      "outputs": [
        {
          "name": "stdout",
          "text": "name found:\n Bella,female,1\n\nname found:\n Daisy,female,3\n\nname wasn't found:\n Freya\nname found:\n Tucker,male,10\n\n",
          "output_type": "stream"
        }
      ]
    },
    {
      "cell_type": "raw",
      "source": "Write a function named random_password() that uses the string and random modules, and returns a string of 10 random letters, numbers, and symbols. Your function should include an optional password length argument.\n    ",
      "metadata": {}
    },
    {
      "cell_type": "code",
      "source": "\ndef random_password(pas_len=10):\n    import random, string\n    var = string.ascii_lowercase + string.ascii_uppercase + string.digits+ string.punctuation\n    password = \"\".join(random.sample(var,pas_len))\n    return password\n    \ntest_3_1 = random_password()\ntest_3_2 = random_password(15)\ntest_3_3 = random_password()\ntest_3_4 = random_password(20)\nprint(test_3_1,test_3_2,test_3_3,test_3_4)\n    ",
      "metadata": {
        "trusted": true
      },
      "execution_count": 70,
      "outputs": [
        {
          "name": "stdout",
          "text": "Hv>;Kl'Wy, P&?e~/=I#r@09(u @f~QW\\tH;/ ]QnDbL6\\uKE}`U3a~84/\n",
          "output_type": "stream"
        }
      ]
    },
    {
      "cell_type": "raw",
      "source": "Write a Python function insert_space to insert space before every capital letter appears in a given word.\nExample:\n(\"PythonExercises\") -> \"Python Exercises\"\n(\"Python\") -> \"Python\"",
      "metadata": {}
    },
    {
      "cell_type": "code",
      "source": "import re\ndef insert_space(strng):\n      return re.sub(r\"(\\w)([A-Z])\", r\"\\1 \\2\", strng)\n\ntest_4_1 = insert_space(\"PythonExercises\")\ntest_4_2 = insert_space(\"SebDev\")\ntest_4_3 = insert_space(\"mynameisArham\")\ntest_4_4 = insert_space(\"Pythonexercises\")\nprint(test_4_1,test_4_2,test_4_3,test_4_4)",
      "metadata": {
        "trusted": true
      },
      "execution_count": 73,
      "outputs": [
        {
          "name": "stdout",
          "text": "Python Exercises Seb Dev mynameis Arham Pythonexercises\n",
          "output_type": "stream"
        }
      ]
    },
    {
      "cell_type": "raw",
      "source": "Write a Python function word_frequency to count the frequency of words in a file.",
      "metadata": {}
    },
    {
      "cell_type": "code",
      "source": "def word_frequency(file):\n    with open(file) as input_file:\n        x = input_file.readlines()\n        d = dict()\n        for line in x:\n            line = line.split()\n            for word in line:\n                if word in d:\n                    d[word] = d[word]+1\n                else:\n                    d[word] = 1\n        return d\n#word_freq.txt has several lines to test out my code.         \ntest_5_1 = word_frequency(\"word_freq.txt\")\nprint(test_5_1)",
      "metadata": {
        "trusted": true
      },
      "execution_count": 81,
      "outputs": [
        {
          "name": "stdout",
          "text": "{'Arham': 2, 'What': 2, 'is': 2, 'Mango': 2, 'my': 2, 'xy': 2}\n",
          "output_type": "stream"
        }
      ]
    },
    {
      "cell_type": "raw",
      "source": "Write a Python function list_shuffle to shuffle the elements of a given list using the random module.",
      "metadata": {}
    },
    {
      "cell_type": "code",
      "source": "\ndef list_shuffle(val):\n    import random\n    random.shuffle(val)\n    return val\n\n#testing differnt arrays\ntest_6_1 = ['hydrogen','helium','lithium','berylium','boron','carbon','nitrogen','oxygen','fluorine']\ntest_6_2 = ['hydrogen','helium','lithium','berylium','boron']\ntest_6_3 = ['berylium','boron','carbon','nitrogen','oxygen','fluorine']\ntest_6_4 = ['a','b','c','d']\ntest_6_1 = list_shuffle(test_6_1)\ntest_6_2 = list_shuffle(test_6_2)\ntest_6_3 = list_shuffle(test_6_3)\ntest_6_4 = list_shuffle(test_6_4)\nprint(test_6_1,test_6_2,test_6_3,test_6_4)\n    ",
      "metadata": {
        "trusted": true
      },
      "execution_count": 75,
      "outputs": [
        {
          "name": "stdout",
          "text": "['hydrogen', 'helium', 'fluorine', 'lithium', 'carbon', 'berylium', 'nitrogen', 'boron', 'oxygen'] ['lithium', 'boron', 'helium', 'hydrogen', 'berylium'] ['carbon', 'berylium', 'boron', 'fluorine', 'nitrogen', 'oxygen'] ['b', 'a', 'c', 'd']\n",
          "output_type": "stream"
        }
      ]
    },
    {
      "cell_type": "raw",
      "source": "Write a Python function that takes a list of integers and finds all pairs of integers that differ by three. Return all pairs of integers in a list.\nExample:\n([0, 3, 4, 7, 9]) -> [[0, 3], [4, 7]]\n[0, -3, -5, -7, -8] -> [[-3, 0], [-8, -5]]\n([1, 2, 3, 4, 5]) -> [[1, 4], [2, 5]]",
      "metadata": {}
    },
    {
      "cell_type": "code",
      "source": "def three_pair(el):\n    x = []\n    for i in el:\n        for g in el:\n            if i-g == 3:\n                x.append([g,i])\n    return x\n                \ntest_7_1 = [0,3,4,7,9]\ntest_7_2 = [0,-3,-5,-7,-8]\ntest_7_3 = [1,2,3,4,5]\ntest_7_1 = three_pair(test_7_1)\ntest_7_2 = three_pair(test_7_2)\ntest_7_3 = three_pair(test_7_3)\nprint(test_7_1,test_7_2,test_7_3)\n",
      "metadata": {
        "trusted": true
      },
      "execution_count": 95,
      "outputs": [
        {
          "name": "stdout",
          "text": "[[0, 3], [4, 7]] [[-3, 0], [-8, -5]] [[1, 4], [2, 5]]\n",
          "output_type": "stream"
        }
      ]
    },
    {
      "cell_type": "raw",
      "source": "Write a Python count_floats function to count float numbers in a given mixed list using lambda expressions.\nOriginal list:\n[1, 'abcd', 3.12, 1.2, 4, 'xyz', 5, 'pqr', 7, -5, -12.22]\nNumber of floats in the said mixed list:\n3",
      "metadata": {}
    },
    {
      "cell_type": "code",
      "source": "def count_floats(count):\n    n = list(map(lambda i: isinstance(i, float), count))\n    print(\"Number of floats in the said mixed list: \", sum(n))\n    return sum(n)\n\n\ntest_8_1 = count_floats([1, 'abcd', 3.12, 1.2, 4, 'xyz', 5, 'pqr', 7, -5, -12.22])\ntest_8_2 = count_floats([2.051, 'abc', 3, 1, 4, 'xyz', 5, 'pqhr', 7.056, -5, -12.22])\ntest_8_3 = count_floats([2.051, 'abc', 3.12,'arham', 1.0, 4, 'xyz', 5, 'pqhr', 7.056, -5, -12.22])",
      "metadata": {
        "trusted": true
      },
      "execution_count": 97,
      "outputs": [
        {
          "name": "stdout",
          "text": "Number of floats in the said mixed list:  3\nNumber of floats in the said mixed list:  3\nNumber of floats in the said mixed list:  5\n",
          "output_type": "stream"
        }
      ]
    },
    {
      "cell_type": "raw",
      "source": "Write a Python reverse_strings function to reverse strings in a given list of string values using lambda expressions.\nOriginal lists:\n['Red', 'Green', 'Blue', 'White', 'Black']\nReverse strings of the said given list:\n['deR', 'neerG', 'eulB', 'etihW', 'kcalB']",
      "metadata": {}
    },
    {
      "cell_type": "code",
      "source": "def reverse_strings(stg):    \n    x = list(map(lambda r: r[::-1],stg))\n    print(x)\n    \n    \ntest_9_1 = ['Red', 'Green', 'Blue', 'White', 'Black']\nreverse_strings(test_9_1) ",
      "metadata": {
        "trusted": true
      },
      "execution_count": 148,
      "outputs": [
        {
          "name": "stdout",
          "text": "['deR', 'neerG', 'eulB', 'etihW', 'kcalB']\n",
          "output_type": "stream"
        }
      ]
    },
    {
      "cell_type": "raw",
      "source": "Write a function that returns nth lowest number of a list (or iterable in general). Return the lowest if second argument not specified.\n\nNote that if a list contains duplicates, they should be handled before determining nth lowest",
      "metadata": {}
    },
    {
      "cell_type": "code",
      "source": "def low_num(nums):\n    x = min(nums)\n    print(x)\n    return(x)\n\ntest_10_1 = low_num([1,2,3,4,5,6,7])\ntest_10_2 = low_num([3,4,5,6,7])\ntest_10_3 = low_num([2,3,4,5,6,7])",
      "metadata": {
        "trusted": true
      },
      "execution_count": 100,
      "outputs": [
        {
          "name": "stdout",
          "text": "1\n3\n2\n",
          "output_type": "stream"
        }
      ]
    },
    {
      "cell_type": "raw",
      "source": "Check if two words are same or differ by only one character (irrespective of case), input strings should have same length.",
      "metadata": {}
    },
    {
      "cell_type": "code",
      "source": "string = ['Arham','xyz']\nd = dict()\nx = len(string[0])\nif len(string[1])==len(string[0]):\n    for line in string:\n        line = line.lower()\n        line = line.split()\n        for word in line:\n            for letter in word:\n                if letter in d:\n                    d[letter] = d[letter] + 1\n                else:\n                    d[letter] = 0\n    if sum(d.values()) == x:\n        print('Words are similiar')\n    elif sum(d.values()) == x-1:\n        print('Words are similiar')\n    else:\n        print('Words are different')\nelse:\n    print('String lentgh different')\n",
      "metadata": {
        "trusted": true
      },
      "execution_count": 188,
      "outputs": [
        {
          "name": "stdout",
          "text": "String lentgh different\n{}\n",
          "output_type": "stream"
        }
      ]
    },
    {
      "cell_type": "raw",
      "source": "Write a function that translates this into an amino acid sequence using the codons dictionary from the geneticcode module and call your function with this sequence. This 36-letter DNA sequence should translate into a 12-letter amino acid sequence.",
      "metadata": {}
    },
    {
      "cell_type": "code",
      "source": "from geneticcode import codons\n\ndef cod2dna(dna_sequence):\n    dna = ''\n    for i in range(0, len(dna_sequence), 3):\n        codon = dna_sequence[i:i + 3]\n        dna += codons[codon]\n    return dna\ndna_sequence = \"ATGGAGGAGCCGCAGTCAGATCCTAGCGTCGAGCCC\"\ndna_amino = cod2dna(dna_sequence)\nprint(dna_amino)",
      "metadata": {
        "trusted": true
      },
      "execution_count": 195,
      "outputs": [
        {
          "name": "stdout",
          "text": "MEEPQSDPSVEP\n",
          "output_type": "stream"
        }
      ]
    },
    {
      "cell_type": "raw",
      "source": "(Extra credit) This problem uses numpy. You can import numpy on Jupyterlab and it will install it the first time it sees the import. You will need to research numpy enough to solve the following challenge. You cannot use a Python loop and solve the problem using your own approach - use numpy built-in functionality to solve it. Write a function max_min that has a 2D numpy array as a parameter. The function should compute the minimum value in each row of the array and then find and return the maximum of those minimum values. So for an array\n[[2, 5, 8],\n [8, -1, 4]]\nthe min value in each row would be [2, -1] and the max of these is 2.",
      "metadata": {}
    },
    {
      "cell_type": "code",
      "source": "import numpy as np\n\ntest_13_1 = np.array([[2, 5, 8],\n                     [8, -1, 4]])\n\nprint(\"the min value in each row would be \",test_13_1.min(axis=1))\nprint(\"and the max of these is \",test_13_1.min(axis=1).max())",
      "metadata": {
        "trusted": true
      },
      "execution_count": 122,
      "outputs": [
        {
          "name": "stdout",
          "text": "the min value in each row would be  [ 2 -1]\nand the max of these is  2\n",
          "output_type": "stream"
        }
      ]
    }
  ]
}